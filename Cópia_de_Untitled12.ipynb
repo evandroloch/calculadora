{
  "nbformat": 4,
  "nbformat_minor": 0,
  "metadata": {
    "colab": {
      "provenance": [],
      "mount_file_id": "1QTnhGRb5laE4qjJDiTvzy4Bji03TMvWe",
      "authorship_tag": "ABX9TyOE3mdAu2EJLn8X2dEFpihU"
    },
    "kernelspec": {
      "name": "python3",
      "display_name": "Python 3"
    },
    "language_info": {
      "name": "python"
    }
  },
  "cells": [
    {
      "cell_type": "code",
      "execution_count": null,
      "metadata": {
        "id": "EJe1QiKh-XL8"
      },
      "outputs": [],
      "source": [
        "import pandas as pd\n"
      ]
    },
    {
      "cell_type": "code",
      "source": [
        "df = pd.read_csv('pacientes.csv')"
      ],
      "metadata": {
        "id": "vi2Nj_wn-5xH"
      },
      "execution_count": null,
      "outputs": []
    }
  ]
}